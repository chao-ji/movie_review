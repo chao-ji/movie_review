{
 "cells": [
  {
   "cell_type": "markdown",
   "metadata": {},
   "source": [
    "In this part, we'll try out the most straightforward way to represent a document as a fixed length vector\n",
    "\n",
    "* CountVectorizer: length = size of vocabulary, entry = the number of occurrence of words with the given ID/index\n",
    "* TfidfVectorizer: Term-frequency multiplied by inverse document frequency\n",
    "* HashingVectorizer: Convert document into vector using hashing function"
   ]
  },
  {
   "cell_type": "code",
   "execution_count": 1,
   "metadata": {
    "collapsed": true
   },
   "outputs": [],
   "source": [
    "import pickle\n",
    "\n",
    "import numpy as np\n",
    "import pandas as pd\n",
    "import matplotlib.pyplot as plt\n",
    "from gensim.models.doc2vec import Doc2Vec, LabeledSentence\n",
    "from sklearn.linear_model import LogisticRegression\n",
    "from sklearn.model_selection import cross_val_score, train_test_split\n",
    "from sklearn.preprocessing import StandardScaler, MinMaxScaler"
   ]
  },
  {
   "cell_type": "markdown",
   "metadata": {},
   "source": [
    "Load the processed data"
   ]
  },
  {
   "cell_type": "code",
   "execution_count": 2,
   "metadata": {
    "collapsed": true
   },
   "outputs": [],
   "source": [
    "train = pd.read_csv(\"labeledTrainData.tsv\",\n",
    "                    delimiter=\"\\t\",\n",
    "                    header=0,\n",
    "                    quoting=3)\n",
    "\n",
    "train_sents = pickle.load(open(\"train_sents.pickle\"))"
   ]
  },
  {
   "cell_type": "markdown",
   "metadata": {},
   "source": [
    "Initialize vectorizers as transformer"
   ]
  },
  {
   "cell_type": "code",
   "execution_count": 4,
   "metadata": {
    "collapsed": false
   },
   "outputs": [],
   "source": [
    "from sklearn.feature_extraction.text import CountVectorizer\n",
    "from sklearn.feature_extraction.text import TfidfVectorizer\n",
    "from sklearn.feature_extraction.text import HashingVectorizer\n",
    "\n",
    "count_vectorizer = CountVectorizer(analyzer=\"word\", stop_words=\"english\", max_features=200) \n",
    "tfidf_vectorizer = TfidfVectorizer(analyzer='word', stop_words=\"english\", max_features=200)\n",
    "hash_vectorizer = HashingVectorizer(analyzer='word', stop_words=\"english\", n_features=200)\n",
    "\n",
    "vectorizers = [count_vectorizer, tfidf_vectorizer, hash_vectorizer]"
   ]
  },
  {
   "cell_type": "markdown",
   "metadata": {},
   "source": [
    "We'll use a simple linear model LogisticRegression to test out the quality of the vector representation in a binary classification task."
   ]
  },
  {
   "cell_type": "code",
   "execution_count": 5,
   "metadata": {
    "collapsed": false
   },
   "outputs": [
    {
     "name": "stdout",
     "output_type": "stream",
     "text": [
      "vectorizer = count, accuracy = 0.788000\n",
      "\n",
      "vectorizer = tfidf, accuracy = 0.788133\n",
      "\n",
      "vectorizer = hash, accuracy = 0.721600\n",
      "\n"
     ]
    }
   ],
   "source": [
    "y = train[\"sentiment\"].values\n",
    "for vectorizer, name in zip(vectorizers, [\"count\", \"tfidf\", \"hash\"]):\n",
    "    X = vectorizer.fit_transform(train_sents).toarray().astype(np.float64)\n",
    "    X = StandardScaler().fit_transform(X)\n",
    "    lr = LogisticRegression(random_state=42)\n",
    "    \n",
    "    X_train, X_test, y_train, y_test = train_test_split(X, y, test_size=0.3, random_state=42)\n",
    "    print \"vectorizer = %s, accuracy = %f\\n\" % (name, lr.fit(X_train, y_train).score(X_test, y_test))"
   ]
  },
  {
   "cell_type": "markdown",
   "metadata": {},
   "source": [
    "Increase the size of the feature space from 200 to 2066:"
   ]
  },
  {
   "cell_type": "code",
   "execution_count": 6,
   "metadata": {
    "collapsed": false
   },
   "outputs": [
    {
     "name": "stdout",
     "output_type": "stream",
     "text": [
      "vectorizer = count, accuracy = 0.844667\n",
      "\n",
      "vectorizer = tfidf, accuracy = 0.852400\n",
      "\n",
      "vectorizer = hash, accuracy = 0.721600\n",
      "\n"
     ]
    }
   ],
   "source": [
    "vectorizers[0].max_features = 2056\n",
    "vectorizers[1].max_features = 2056\n",
    "vectorizers[2].max_features = 2056\n",
    "\n",
    "for vectorizer, name in zip(vectorizers, [\"count\", \"tfidf\", \"hash\"]):\n",
    "    X = vectorizer.fit_transform(train_sents).toarray().astype(np.float64)\n",
    "    X = StandardScaler().fit_transform(X)\n",
    "    lr = LogisticRegression(random_state=42)\n",
    "    \n",
    "    X_train, X_test, y_train, y_test = train_test_split(X, y, test_size=0.3, random_state=42)\n",
    "    print \"vectorizer = %s, accuracy = %f\\n\" % (name, lr.fit(X_train, y_train).score(X_test, y_test))"
   ]
  }
 ],
 "metadata": {
  "anaconda-cloud": {},
  "kernelspec": {
   "display_name": "Python [conda root]",
   "language": "python",
   "name": "conda-root-py"
  },
  "language_info": {
   "codemirror_mode": {
    "name": "ipython",
    "version": 2
   },
   "file_extension": ".py",
   "mimetype": "text/x-python",
   "name": "python",
   "nbconvert_exporter": "python",
   "pygments_lexer": "ipython2",
   "version": "2.7.12"
  }
 },
 "nbformat": 4,
 "nbformat_minor": 1
}
