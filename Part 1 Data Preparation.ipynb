{
 "cells": [
  {
   "cell_type": "markdown",
   "metadata": {},
   "source": [
    "We first prepare the dataset by cleaning and preprocessing the text of each review into list of tokens"
   ]
  },
  {
   "cell_type": "code",
   "execution_count": 1,
   "metadata": {
    "collapsed": true
   },
   "outputs": [],
   "source": [
    "import re\n",
    "import sys\n",
    "import string\n",
    "import itertools\n",
    "\n",
    "import numpy as np\n",
    "import pandas as pd\n",
    "import nltk\n",
    "from nltk.corpus import stopwords, wordnet\n",
    "from nltk.tag.perceptron import PerceptronTagger\n",
    "from nltk.stem import WordNetLemmatizer\n",
    "from nltk import sent_tokenize, word_tokenize, pos_tag\n",
    "\n",
    "PRINTABLE = set(string.printable)\n",
    "STOPLIST = set(stopwords.words(\"english\")) | {\"'ve\", \"'m\", \"'s\", \"'re\", \"'d\", \"'ll\"}"
   ]
  },
  {
   "cell_type": "markdown",
   "metadata": {},
   "source": [
    "Read **train** and **unlabeld** into dataframes. Only **train** comes with class labels"
   ]
  },
  {
   "cell_type": "code",
   "execution_count": 2,
   "metadata": {
    "collapsed": true
   },
   "outputs": [],
   "source": [
    "train = pd.read_csv(\"labeledTrainData.tsv\",\n",
    "                    delimiter=\"\\t\",\n",
    "                    header=0,\n",
    "                    quoting=3)\n",
    "\n",
    "unlabeled = pd.read_csv(\"unlabeledTrainData.tsv\",\n",
    "                       delimiter=\"\\t\",\n",
    "                       header=0,\n",
    "                       quoting=3)"
   ]
  },
  {
   "cell_type": "markdown",
   "metadata": {},
   "source": [
    "Define utility functions for cleaning and preprocessing text"
   ]
  },
  {
   "cell_type": "code",
   "execution_count": 3,
   "metadata": {
    "collapsed": false
   },
   "outputs": [],
   "source": [
    "def clean_text(text):\n",
    "    \"\"\"Remove tags from text.\"\"\"\n",
    "    text = text.replace(\"\\n\", \" \").replace(\"\\r\", \" \")\n",
    "    text = re.sub(r\"https?://[^\\s\\\"\\']+\", \"URL\", text)\n",
    "    text = re.sub(r\"< *br *>\", \" \", text)\n",
    "    text = re.sub(r\"< *br */ *>\", \" \", text)\n",
    "    text = re.sub(r\"[=\\+\\\\*\\[\\]\\(\\)&%\\$#@\\^]\", \"\", text)\n",
    "    text = re.sub(r\"\\d+\", \"NUM\", text)\n",
    "    text = text[1:-1]\n",
    "    \n",
    "    text = filter(lambda ch: ch in PRINTABLE, text)\n",
    "    \n",
    "    return text\n",
    "\n",
    "def process_stemming_pos(text,\n",
    "                        pos_filter=set(\"VNJ\"),\n",
    "                        stemming=True,\n",
    "                        stoplist=STOPLIST,\n",
    "                        sent_tokenize=sent_tokenize,\n",
    "                        word_tokenize=word_tokenize,\n",
    "                        lemmantize=WordNetLemmatizer):\n",
    "\n",
    "\n",
    "    lemmatize_map = {\"N\": wordnet.NOUN, \"V\": wordnet.VERB, \"J\": wordnet.ADJ}\n",
    "    wl = WordNetLemmatizer()\n",
    "\n",
    "    def stem_word_pos_pair(word, pos):\n",
    "        v = pos[0].upper()\n",
    "        if v != \"V\" and v != \"N\" and v != \"J\":\n",
    "            return word, pos\n",
    "        else:\n",
    "            return wl.lemmatize(word, lemmatize_map[v]), pos\n",
    "\n",
    "    try:\n",
    "        sents_tokens_pos = [pos_tag(word_tokenize(sent))\n",
    "                            for sent in sent_tokenize(text)]\n",
    "        tokens_pos = list(itertools.chain(*sents_tokens_pos))\n",
    "\n",
    "        if stoplist is not None:\n",
    "            tokens_pos = filter(lambda pair: pair[0] not in stoplist, tokens_pos)\n",
    "        if stemming:\n",
    "            tokens_pos = [stem_word_pos_pair(*pair) for pair in tokens_pos]\n",
    "        if pos_filter is not None:\n",
    "            tokens_pos = filter(lambda pair: pair[1][0] in pos_filter, tokens_pos)\n",
    "\n",
    "        if len(tokens_pos) == 0:\n",
    "            return \"\"\n",
    "        text = \" \".join(zip(*tokens_pos)[0])\n",
    "    except Exception as inst:\n",
    "        print \"semantic_processing: %s\\ninput: %r\" % (inst, text)\n",
    "        sys.exit(1)\n",
    "\n",
    "    return text    "
   ]
  },
  {
   "cell_type": "markdown",
   "metadata": {},
   "source": [
    "Process raw text of labeled (**train**) and unlabeled (**unlabeled**) reviews"
   ]
  },
  {
   "cell_type": "code",
   "execution_count": 4,
   "metadata": {
    "collapsed": false
   },
   "outputs": [
    {
     "name": "stdout",
     "output_type": "stream",
     "text": [
      "0\n",
      "5000\n",
      "10000\n",
      "15000\n",
      "20000\n",
      "0\n",
      "5000\n",
      "10000\n",
      "15000\n",
      "20000\n",
      "25000\n",
      "30000\n",
      "35000\n",
      "40000\n",
      "45000\n"
     ]
    }
   ],
   "source": [
    "train_sents = []\n",
    "for i in range(len(train)):\n",
    "    if i % 5000 == 0:\n",
    "        print i\n",
    "    r = process_stemming_pos(clean_text(train[\"review\"][i]), pos_filter=None, stemming=False, stoplist=None)\n",
    "    train_sents.append(r)\n",
    "     \n",
    "unlabeled_sents = []\n",
    "for i in range(len(unlabeled)):\n",
    "    if i % 5000 == 0:\n",
    "        print i\n",
    "    r = process_stemming_pos(clean_text(unlabeled[\"review\"][i]), pos_filter=None, stemming=False, stoplist=None)\n",
    "    unlabeled_sents.append(r) "
   ]
  },
  {
   "cell_type": "markdown",
   "metadata": {},
   "source": [
    "Save the results:"
   ]
  },
  {
   "cell_type": "code",
   "execution_count": 5,
   "metadata": {
    "collapsed": true
   },
   "outputs": [],
   "source": [
    "import pickle\n",
    "pickle.dump(train_sents, open(\"train_sents.pickle\", \"w\"))\n",
    "pickle.dump(unlabeled_sents, open(\"unlabeled_sents.pickle\", \"w\"))"
   ]
  },
  {
   "cell_type": "markdown",
   "metadata": {},
   "source": [
    "Repeat the process, but perform verb stemming"
   ]
  },
  {
   "cell_type": "code",
   "execution_count": 6,
   "metadata": {
    "collapsed": false
   },
   "outputs": [
    {
     "name": "stdout",
     "output_type": "stream",
     "text": [
      "0\n",
      "5000\n",
      "10000\n",
      "15000\n",
      "20000\n",
      "0\n",
      "5000\n",
      "10000\n",
      "15000\n",
      "20000\n",
      "25000\n",
      "30000\n",
      "35000\n",
      "40000\n",
      "45000\n"
     ]
    }
   ],
   "source": [
    "train_sents_stem = []\n",
    "for i in range(len(train)):\n",
    "    if i % 5000 == 0:\n",
    "        print i\n",
    "    r = process_stemming_pos(clean_text(train[\"review\"][i]), pos_filter=None, stemming=True, stoplist=None)\n",
    "    train_sents_stem.append(r)\n",
    "     \n",
    "unlabeled_sents_stem = []\n",
    "for i in range(len(unlabeled)):\n",
    "    if i % 5000 == 0:\n",
    "        print i\n",
    "    r = process_stemming_pos(clean_text(unlabeled[\"review\"][i]), pos_filter=None, stemming=True, stoplist=None)\n",
    "    unlabeled_sents_stem.append(r)  "
   ]
  },
  {
   "cell_type": "code",
   "execution_count": 7,
   "metadata": {
    "collapsed": true
   },
   "outputs": [],
   "source": [
    "pickle.dump(train_sents_stem, open(\"train_sents_stem.pickle\", \"w\"))\n",
    "pickle.dump(unlabeled_sents_stem, open(\"unlabeled_sents_stem.pickle\", \"w\"))"
   ]
  },
  {
   "cell_type": "markdown",
   "metadata": {},
   "source": [
    "Take a look at the processed text:"
   ]
  },
  {
   "cell_type": "code",
   "execution_count": 8,
   "metadata": {
    "collapsed": false
   },
   "outputs": [
    {
     "data": {
      "text/plain": [
       "'\"With all this stuff going down at the moment with MJ i\\'ve started listening to his music, watching the odd documentary here and there, watched The Wiz and watched Moonwalker again. Maybe i just want to get a certain insight into this guy who i thought was really cool in the eighties just to maybe make up my mind whether he is guilty or innocent. Moonwalker is part biography, part feature film which i remember going to see at the cinema when it was originally released. Some of it has subtle messages about MJ\\'s feeling towards the press and also the obvious message of drugs are bad m\\'kay.<br /><br />Visually impressive but of course this is all about Michael Jackson so unless you remotely like MJ in anyway then you are going to hate this and find it boring. Some may call MJ an egotist for consenting to the making of this movie BUT MJ and most of his fans would say that he made it for the fans which if true is really nice of him.<br /><br />The actual feature film bit when it finally starts is only on for 20 minutes or so excluding the Smooth Criminal sequence and Joe Pesci is convincing as a psychopathic all powerful drug lord. Why he wants MJ dead so bad is beyond me. Because MJ overheard his plans? Nah, Joe Pesci\\'s character ranted that he wanted people to know it is he who is supplying drugs etc so i dunno, maybe he just hates MJ\\'s music.<br /><br />Lots of cool things in this like MJ turning into a car and a robot and the whole Speed Demon sequence. Also, the director must have had the patience of a saint when it came to filming the kiddy Bad sequence as usually directors hate working with one kid let alone a whole bunch of them performing a complex dance scene.<br /><br />Bottom line, this movie is for people who like MJ on one level or another (which i think is most people). If not, then stay away. It does try and give off a wholesome message and ironically MJ\\'s bestest buddy in this movie is a girl! Michael Jackson is truly one of the most talented people ever to grace this planet but is he guilty? Well, with all the attention i\\'ve gave this subject....hmmm well i don\\'t know because people can be different behind closed doors, i know this for a fact. He is either an extremely nice but stupid guy or one of the most sickest liars. I hope he is not the latter.\"'"
      ]
     },
     "execution_count": 8,
     "metadata": {},
     "output_type": "execute_result"
    }
   ],
   "source": [
    "# Original\n",
    "train[\"review\"].iloc[0]"
   ]
  },
  {
   "cell_type": "code",
   "execution_count": 9,
   "metadata": {
    "collapsed": false
   },
   "outputs": [
    {
     "data": {
      "text/plain": [
       "\"With all this stuff going down at the moment with MJ i 've started listening to his music , watching the odd documentary here and there , watched The Wiz and watched Moonwalker again . Maybe i just want to get a certain insight into this guy who i thought was really cool in the eighties just to maybe make up my mind whether he is guilty or innocent . Moonwalker is part biography , part feature film which i remember going to see at the cinema when it was originally released . Some of it has subtle messages about MJ 's feeling towards the press and also the obvious message of drugs are bad m'kay . Visually impressive but of course this is all about Michael Jackson so unless you remotely like MJ in anyway then you are going to hate this and find it boring . Some may call MJ an egotist for consenting to the making of this movie BUT MJ and most of his fans would say that he made it for the fans which if true is really nice of him . The actual feature film bit when it finally starts is only on for NUM minutes or so excluding the Smooth Criminal sequence and Joe Pesci is convincing as a psychopathic all powerful drug lord . Why he wants MJ dead so bad is beyond me . Because MJ overheard his plans ? Nah , Joe Pesci 's character ranted that he wanted people to know it is he who is supplying drugs etc so i dunno , maybe he just hates MJ 's music . Lots of cool things in this like MJ turning into a car and a robot and the whole Speed Demon sequence . Also , the director must have had the patience of a saint when it came to filming the kiddy Bad sequence as usually directors hate working with one kid let alone a whole bunch of them performing a complex dance scene . Bottom line , this movie is for people who like MJ on one level or another which i think is most people . If not , then stay away . It does try and give off a wholesome message and ironically MJ 's bestest buddy in this movie is a girl ! Michael Jackson is truly one of the most talented people ever to grace this planet but is he guilty ? Well , with all the attention i 've gave this subject ... .hmmm well i do n't know because people can be different behind closed doors , i know this for a fact . He is either an extremely nice but stupid guy or one of the most sickest liars . I hope he is not the latter .\""
      ]
     },
     "execution_count": 9,
     "metadata": {},
     "output_type": "execute_result"
    }
   ],
   "source": [
    "# Processed\n",
    "train_sents[0]"
   ]
  },
  {
   "cell_type": "code",
   "execution_count": 10,
   "metadata": {
    "collapsed": false
   },
   "outputs": [
    {
     "data": {
      "text/plain": [
       "u\"With all this stuff go down at the moment with MJ i 've start listen to his music , watch the odd documentary here and there , watch The Wiz and watch Moonwalker again . Maybe i just want to get a certain insight into this guy who i think be really cool in the eighty just to maybe make up my mind whether he be guilty or innocent . Moonwalker be part biography , part feature film which i remember go to see at the cinema when it be originally release . Some of it have subtle message about MJ 's feeling towards the press and also the obvious message of drug be bad m'kay . Visually impressive but of course this be all about Michael Jackson so unless you remotely like MJ in anyway then you be go to hate this and find it bore . Some may call MJ an egotist for consent to the making of this movie BUT MJ and most of his fan would say that he make it for the fan which if true be really nice of him . The actual feature film bit when it finally start be only on for NUM minute or so exclude the Smooth Criminal sequence and Joe Pesci be convince as a psychopathic all powerful drug lord . Why he want MJ dead so bad be beyond me . Because MJ overhear his plan ? Nah , Joe Pesci 's character rant that he want people to know it be he who be supply drug etc so i dunno , maybe he just hat MJ 's music . Lots of cool thing in this like MJ turn into a car and a robot and the whole Speed Demon sequence . Also , the director must have have the patience of a saint when it come to film the kiddy Bad sequence as usually director hate work with one kid let alone a whole bunch of them perform a complex dance scene . Bottom line , this movie be for people who like MJ on one level or another which i think be most people . If not , then stay away . It do try and give off a wholesome message and ironically MJ 's best buddy in this movie be a girl ! Michael Jackson be truly one of the most talented people ever to grace this planet but be he guilty ? Well , with all the attention i 've give this subject ... .hmmm well i do n't know because people can be different behind closed door , i know this for a fact . He be either an extremely nice but stupid guy or one of the most sick liar . I hope he be not the latter .\""
      ]
     },
     "execution_count": 10,
     "metadata": {},
     "output_type": "execute_result"
    }
   ],
   "source": [
    "# Processed (Verb stemmed)\n",
    "train_sents_stem[0]"
   ]
  }
 ],
 "metadata": {
  "anaconda-cloud": {},
  "kernelspec": {
   "display_name": "Python [conda root]",
   "language": "python",
   "name": "conda-root-py"
  },
  "language_info": {
   "codemirror_mode": {
    "name": "ipython",
    "version": 2
   },
   "file_extension": ".py",
   "mimetype": "text/x-python",
   "name": "python",
   "nbconvert_exporter": "python",
   "pygments_lexer": "ipython2",
   "version": "2.7.12"
  }
 },
 "nbformat": 4,
 "nbformat_minor": 1
}
